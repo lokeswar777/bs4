{
 "cells": [
  {
   "cell_type": "code",
   "execution_count": 1,
   "metadata": {},
   "outputs": [
    {
     "name": "stdout",
     "output_type": "stream",
     "text": [
      "Defaulting to user installation because normal site-packages is not writeable\n",
      "Requirement already satisfied: requests in c:\\users\\lokes\\appdata\\local\\packages\\pythonsoftwarefoundation.python.3.12_qbz5n2kfra8p0\\localcache\\local-packages\\python312\\site-packages (2.31.0)\n",
      "Requirement already satisfied: charset-normalizer<4,>=2 in c:\\users\\lokes\\appdata\\local\\packages\\pythonsoftwarefoundation.python.3.12_qbz5n2kfra8p0\\localcache\\local-packages\\python312\\site-packages (from requests) (3.3.2)\n",
      "Requirement already satisfied: idna<4,>=2.5 in c:\\users\\lokes\\appdata\\local\\packages\\pythonsoftwarefoundation.python.3.12_qbz5n2kfra8p0\\localcache\\local-packages\\python312\\site-packages (from requests) (3.7)\n",
      "Requirement already satisfied: urllib3<3,>=1.21.1 in c:\\users\\lokes\\appdata\\local\\packages\\pythonsoftwarefoundation.python.3.12_qbz5n2kfra8p0\\localcache\\local-packages\\python312\\site-packages (from requests) (2.2.1)\n",
      "Requirement already satisfied: certifi>=2017.4.17 in c:\\users\\lokes\\appdata\\local\\packages\\pythonsoftwarefoundation.python.3.12_qbz5n2kfra8p0\\localcache\\local-packages\\python312\\site-packages (from requests) (2024.2.2)\n",
      "Note: you may need to restart the kernel to use updated packages.\n"
     ]
    }
   ],
   "source": [
    "pip install requests"
   ]
  },
  {
   "cell_type": "code",
   "execution_count": 7,
   "metadata": {},
   "outputs": [
    {
     "data": {
      "text/plain": [
       "'\\nrest\\npython\\ndatabase\\ndjango\\napi\\n'"
      ]
     },
     "execution_count": 7,
     "metadata": {},
     "output_type": "execute_result"
    }
   ],
   "source": [
    "\n",
    "from bs4 import BeautifulSoup\n",
    "import requests\n",
    "\n",
    "html_text=requests.get('https://www.timesjobs.com/candidate/job-search.html?searchType=personalizedSearch&from=submit&searchTextSrc=&searchTextText=&txtKeywords=python&txtLocation=').text\n",
    "soup=BeautifulSoup(html_text,'lxml')\n",
    "job=soup.find('li',class_=\"clearfix job-bx wht-shd-bx\")\n",
    "company=job.find('h3',class_='joblist-comp-name').text\n",
    "skills=job.find('span',class_='srp-skills').text\n",
    "#jobs.h2\n",
    "skills"
   ]
  },
  {
   "cell_type": "code",
   "execution_count": 17,
   "metadata": {},
   "outputs": [
    {
     "name": "stdout",
     "output_type": "stream",
     "text": [
      "company name \n",
      "    art technology and software india pvt ltd\n",
      "    \n",
      "    \n",
      "skill \n",
      "rest\n",
      "python\n",
      "database\n",
      "django\n",
      "api\n",
      "\n"
     ]
    }
   ],
   "source": [
    "print(f'''company name {company}\n",
    "skill {skills}''')"
   ]
  },
  {
   "cell_type": "code",
   "execution_count": 20,
   "metadata": {},
   "outputs": [
    {
     "data": {
      "text/plain": [
       "'Posted few days ago'"
      ]
     },
     "execution_count": 20,
     "metadata": {},
     "output_type": "execute_result"
    }
   ],
   "source": [
    "published_date=job.find(\"span\",class_='sim-posted').span.text\n",
    "published_date"
   ]
  },
  {
   "cell_type": "code",
   "execution_count": 21,
   "metadata": {},
   "outputs": [
    {
     "data": {
      "text/plain": [
       "<li class=\"clearfix job-bx wht-shd-bx\">\n",
       "<header class=\"clearfix\">\n",
       "<!--\n",
       "-->\n",
       "<!-- -->\n",
       "<h2>\n",
       "<a href=\"https://www.timesjobs.com/job-detail/python-developer-art-technology-and-software-india-pvt-ltd-cochin-kochi-ernakulam-2-to-3-yrs-jobid-LwuulL9CkdpzpSvf__PLUS__uAgZw==&amp;source=srp\" onclick=\"logViewUSBT('view','70509621','rest  ,  python  ,  database  ,  django  ,  api','Cochin/ Kochi/ Ernakulam','2 - 3','IT Software : Software Products &amp; Services','1','' )\" target=\"_blank\">\n",
       "<strong class=\"blkclor\">Python</strong> Developer</a> </h2>\n",
       "<h3 class=\"joblist-comp-name\">\n",
       "    art technology and software india pvt ltd\n",
       "    \n",
       "    </h3>\n",
       "</header>\n",
       "<ul class=\"top-jd-dtl clearfix\">\n",
       "<li><i class=\"material-icons\">card_travel</i>2 - 3 yrs</li>\n",
       "<li>\n",
       "<i class=\"material-icons\">location_on</i>\n",
       "<span title=\"Cochin/ Kochi/ Ernakulam\">Cochin/ Kochi/ Ernakulam</span>\n",
       "</li>\n",
       "</ul>\n",
       "<ul class=\"list-job-dtl clearfix\">\n",
       "<li>\n",
       "<label>Job Description:</label>\n",
       "ResponsibilitiesIn-depth knowledge of Python and Django framework 2  yr experience - Must HaveAPI design based on RESTBuild scalable and performance application with large dat... <a href=\"https://www.timesjobs.com/job-detail/python-developer-art-technology-and-software-india-pvt-ltd-cochin-kochi-ernakulam-2-to-3-yrs-jobid-LwuulL9CkdpzpSvf__PLUS__uAgZw==&amp;source=srp\" target=\"_blank\">More Details</a>\n",
       "</li>\n",
       "<li>\n",
       "<label>KeySkills:</label>\n",
       "<span class=\"srp-skills\">\n",
       "<span>rest</span>\n",
       "<span><strong class=\"blkclor\">python</strong></span>\n",
       "<span>database</span>\n",
       "<span>django</span>\n",
       "<span>api</span>\n",
       "</span> </li>\n",
       "<!--\n",
       "            <li>\n",
       "              <i class=\"material-icons\">location_on</i>\n",
       "              Cochin/ Kochi/ Ernakulam\n",
       "              </li>\n",
       "-->\n",
       "</ul>\n",
       "<div class=\"list-job-bt clearfix\">\n",
       "<div class=\"list-action\">\n",
       "<div class=\"applied-dtl clearfix\" id=\"showPostApplyData_70509621\">\n",
       "<a class=\"waves-effect waves-light btn\" href=\"javascript:callExtJobApply('70509621','adId=LwuulL9CkdpzpSvf__PLUS__uAgZw==&amp;compName=Career Progress Consultants','TJPFSRP');\" onclick=\"trackClickEvent('View_AND_Apply_SRP','from_srp_externalJobs');logViewUSBT('apply','70509621','rest  ,  python  ,  database  ,  django  ,  api','Cochin/ Kochi/ Ernakulam','2 - 3','IT Software : Software Products &amp; Services','1','')\">Apply</a>\n",
       "<span class=\"jobs-status clearfix\">\n",
       "<!--\n",
       "       <i class=\"material-icons trnding-up\" title=\"Recently posted job, Recruiter is actively looking for candidates\">check_circle</i>\n",
       "        \n",
       "-->\n",
       "</span>\n",
       "<span class=\"sim-posted\">\n",
       "<span>Posted few days ago</span>\n",
       "</span>\n",
       "</div>\n",
       "</div>\n",
       "</div>\n",
       "</li>"
      ]
     },
     "execution_count": 21,
     "metadata": {},
     "output_type": "execute_result"
    }
   ],
   "source": [
    "job"
   ]
  },
  {
   "cell_type": "code",
   "execution_count": null,
   "metadata": {},
   "outputs": [],
   "source": []
  }
 ],
 "metadata": {
  "kernelspec": {
   "display_name": "Python 3",
   "language": "python",
   "name": "python3"
  },
  "language_info": {
   "codemirror_mode": {
    "name": "ipython",
    "version": 3
   },
   "file_extension": ".py",
   "mimetype": "text/x-python",
   "name": "python",
   "nbconvert_exporter": "python",
   "pygments_lexer": "ipython3",
   "version": "3.12.7"
  }
 },
 "nbformat": 4,
 "nbformat_minor": 2
}
