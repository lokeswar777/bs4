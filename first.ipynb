{
 "cells": [
  {
   "cell_type": "code",
   "execution_count": 2,
   "metadata": {},
   "outputs": [
    {
     "name": "stdout",
     "output_type": "stream",
     "text": [
      "Defaulting to user installation because normal site-packages is not writeable\n",
      "Requirement already satisfied: beautifulsoup4 in c:\\users\\lokes\\appdata\\local\\packages\\pythonsoftwarefoundation.python.3.12_qbz5n2kfra8p0\\localcache\\local-packages\\python312\\site-packages (4.12.3)\n",
      "Requirement already satisfied: soupsieve>1.2 in c:\\users\\lokes\\appdata\\local\\packages\\pythonsoftwarefoundation.python.3.12_qbz5n2kfra8p0\\localcache\\local-packages\\python312\\site-packages (from beautifulsoup4) (2.5)\n",
      "Note: you may need to restart the kernel to use updated packages.\n"
     ]
    }
   ],
   "source": [
    "pip install beautifulsoup4"
   ]
  },
  {
   "cell_type": "code",
   "execution_count": 4,
   "metadata": {},
   "outputs": [
    {
     "name": "stdout",
     "output_type": "stream",
     "text": [
      "Defaulting to user installation because normal site-packages is not writeable\n",
      "Collecting lxml\n",
      "  Downloading lxml-5.3.0-cp312-cp312-win_amd64.whl.metadata (3.9 kB)\n",
      "Downloading lxml-5.3.0-cp312-cp312-win_amd64.whl (3.8 MB)\n",
      "   ---------------------------------------- 0.0/3.8 MB ? eta -:--:--\n",
      "   ---------------------------------------- 0.0/3.8 MB ? eta -:--:--\n",
      "   -- ------------------------------------- 0.3/3.8 MB ? eta -:--:--\n",
      "   ----- ---------------------------------- 0.5/3.8 MB 985.5 kB/s eta 0:00:04\n",
      "   ----- ---------------------------------- 0.5/3.8 MB 985.5 kB/s eta 0:00:04\n",
      "   ----- ---------------------------------- 0.5/3.8 MB 985.5 kB/s eta 0:00:04\n",
      "   -------- ------------------------------- 0.8/3.8 MB 550.1 kB/s eta 0:00:06\n",
      "   -------- ------------------------------- 0.8/3.8 MB 550.1 kB/s eta 0:00:06\n",
      "   -------- ------------------------------- 0.8/3.8 MB 550.1 kB/s eta 0:00:06\n",
      "   -------- ------------------------------- 0.8/3.8 MB 550.1 kB/s eta 0:00:06\n",
      "   ---------- ----------------------------- 1.0/3.8 MB 449.4 kB/s eta 0:00:07\n",
      "   ---------- ----------------------------- 1.0/3.8 MB 449.4 kB/s eta 0:00:07\n",
      "   ---------- ----------------------------- 1.0/3.8 MB 449.4 kB/s eta 0:00:07\n",
      "   ---------- ----------------------------- 1.0/3.8 MB 449.4 kB/s eta 0:00:07\n",
      "   ---------- ----------------------------- 1.0/3.8 MB 449.4 kB/s eta 0:00:07\n",
      "   ---------- ----------------------------- 1.0/3.8 MB 449.4 kB/s eta 0:00:07\n",
      "   ------------- -------------------------- 1.3/3.8 MB 349.5 kB/s eta 0:00:08\n",
      "   ------------- -------------------------- 1.3/3.8 MB 349.5 kB/s eta 0:00:08\n",
      "   ------------- -------------------------- 1.3/3.8 MB 349.5 kB/s eta 0:00:08\n",
      "   ------------- -------------------------- 1.3/3.8 MB 349.5 kB/s eta 0:00:08\n",
      "   ------------- -------------------------- 1.3/3.8 MB 349.5 kB/s eta 0:00:08\n",
      "   ------------- -------------------------- 1.3/3.8 MB 349.5 kB/s eta 0:00:08\n",
      "   ---------------- ----------------------- 1.6/3.8 MB 302.8 kB/s eta 0:00:08\n",
      "   ---------------- ----------------------- 1.6/3.8 MB 302.8 kB/s eta 0:00:08\n",
      "   ---------------- ----------------------- 1.6/3.8 MB 302.8 kB/s eta 0:00:08\n",
      "   ---------------- ----------------------- 1.6/3.8 MB 302.8 kB/s eta 0:00:08\n",
      "   ---------------- ----------------------- 1.6/3.8 MB 302.8 kB/s eta 0:00:08\n",
      "   ---------------- ----------------------- 1.6/3.8 MB 302.8 kB/s eta 0:00:08\n",
      "   ---------------- ----------------------- 1.6/3.8 MB 302.8 kB/s eta 0:00:08\n",
      "   ---------------- ----------------------- 1.6/3.8 MB 302.8 kB/s eta 0:00:08\n",
      "   ------------------- -------------------- 1.8/3.8 MB 263.5 kB/s eta 0:00:08\n",
      "   ------------------- -------------------- 1.8/3.8 MB 263.5 kB/s eta 0:00:08\n",
      "   ------------------- -------------------- 1.8/3.8 MB 263.5 kB/s eta 0:00:08\n",
      "   ------------------- -------------------- 1.8/3.8 MB 263.5 kB/s eta 0:00:08\n",
      "   ------------------- -------------------- 1.8/3.8 MB 263.5 kB/s eta 0:00:08\n",
      "   ------------------- -------------------- 1.8/3.8 MB 263.5 kB/s eta 0:00:08\n",
      "   --------------------- ------------------ 2.1/3.8 MB 253.6 kB/s eta 0:00:07\n",
      "   --------------------- ------------------ 2.1/3.8 MB 253.6 kB/s eta 0:00:07\n",
      "   --------------------- ------------------ 2.1/3.8 MB 253.6 kB/s eta 0:00:07\n",
      "   --------------------- ------------------ 2.1/3.8 MB 253.6 kB/s eta 0:00:07\n",
      "   ------------------------ --------------- 2.4/3.8 MB 257.1 kB/s eta 0:00:06\n",
      "   ------------------------ --------------- 2.4/3.8 MB 257.1 kB/s eta 0:00:06\n",
      "   ------------------------ --------------- 2.4/3.8 MB 257.1 kB/s eta 0:00:06\n",
      "   --------------------------- ------------ 2.6/3.8 MB 273.0 kB/s eta 0:00:05\n",
      "   ------------------------------ --------- 2.9/3.8 MB 290.8 kB/s eta 0:00:04\n",
      "   ----------------------------------- ---- 3.4/3.8 MB 339.5 kB/s eta 0:00:02\n",
      "   -------------------------------------- - 3.7/3.8 MB 361.7 kB/s eta 0:00:01\n",
      "   ---------------------------------------- 3.8/3.8 MB 374.2 kB/s eta 0:00:00\n",
      "Installing collected packages: lxml\n",
      "Successfully installed lxml-5.3.0\n",
      "Note: you may need to restart the kernel to use updated packages.\n"
     ]
    }
   ],
   "source": [
    "pip install lxml\n"
   ]
  },
  {
   "cell_type": "code",
   "execution_count": 5,
   "metadata": {},
   "outputs": [
    {
     "name": "stdout",
     "output_type": "stream",
     "text": [
      "<!DOCTYPE html>\n",
      "<html lang=\"en\">\n",
      "<head>\n",
      "    <meta charset=\"UTF-8\">\n",
      "    <meta name=\"viewport\" content=\"width=device-width, initial-scale=1.0\">\n",
      "    <title>Simple Web Page with Cards</title>\n",
      "    <style>\n",
      "        * {\n",
      "            box-sizing: border-box;\n",
      "            margin: 0;\n",
      "            padding: 0;\n",
      "        }\n",
      "\n",
      "        body {\n",
      "            font-family: Arial, sans-serif;\n",
      "            background-color: #f0f0f0;\n",
      "            padding: 20px;\n",
      "        }\n",
      "\n",
      "        .container {\n",
      "            display: flex;\n",
      "            justify-content: space-between;\n",
      "            max-width: 1000px;\n",
      "            margin: auto;\n",
      "        }\n",
      "\n",
      "        .card {\n",
      "            background-color: #fff;\n",
      "            border: 1px solid #ddd;\n",
      "            border-radius: 10px;\n",
      "            box-shadow: 0 2px 10px rgba(0, 0, 0, 0.1);\n",
      "            padding: 20px;\n",
      "            width: 30%;\n",
      "            text-align: center;\n",
      "        }\n",
      "\n",
      "        .card h3 {\n",
      "            margin-bottom: 10px;\n",
      "        }\n",
      "\n",
      "        .card p {\n",
      "            color: #666;\n",
      "            margin-bottom: 20px;\n",
      "        }\n",
      "\n",
      "        .card button {\n",
      "            padding: 10px 20px;\n",
      "            border: none;\n",
      "            background-color: #007BFF;\n",
      "            color: white;\n",
      "            border-radius: 5px;\n",
      "            cursor: pointer;\n",
      "            transition: background-color 0.3s;\n",
      "        }\n",
      "\n",
      "        .card button:hover {\n",
      "            background-color: #0056b3;\n",
      "        }\n",
      "    </style>\n",
      "</head>\n",
      "<body>\n",
      "    <div class=\"container\">\n",
      "        <!-- Card 1 -->\n",
      "        <div class=\"card\">\n",
      "            <h3>Card 1</h3>\n",
      "            <p>This is the description for the first card.</p>\n",
      "            <button>Click Me</button>\n",
      "        </div>\n",
      "\n",
      "        <!-- Card 2 -->\n",
      "        <div class=\"card\">\n",
      "            <h3>Card 2</h3>\n",
      "            <p>This is the description for the second card.</p>\n",
      "            <button>Click Me</button>\n",
      "        </div>\n",
      "\n",
      "        <!-- Card 3 -->\n",
      "        <div class=\"card\">\n",
      "            <h3>Card 3</h3>\n",
      "            <p>This is the description for the third card.</p>\n",
      "            <button>Click Me</button>\n",
      "        </div>\n",
      "    </div>\n",
      "</body>\n",
      "</html>\n",
      "\n"
     ]
    }
   ],
   "source": [
    "from bs4 import BeautifulSoup\n",
    "\n",
    "with open('home.html','r') as html_file:\n",
    "    content=html_file.read()\n",
    "    print(content)"
   ]
  },
  {
   "cell_type": "code",
   "execution_count": 6,
   "metadata": {},
   "outputs": [
    {
     "name": "stdout",
     "output_type": "stream",
     "text": [
      "<!DOCTYPE html>\n",
      "<html lang=\"en\">\n",
      " <head>\n",
      "  <meta charset=\"utf-8\"/>\n",
      "  <meta content=\"width=device-width, initial-scale=1.0\" name=\"viewport\"/>\n",
      "  <title>\n",
      "   Simple Web Page with Cards\n",
      "  </title>\n",
      "  <style>\n",
      "   * {\n",
      "            box-sizing: border-box;\n",
      "            margin: 0;\n",
      "            padding: 0;\n",
      "        }\n",
      "\n",
      "        body {\n",
      "            font-family: Arial, sans-serif;\n",
      "            background-color: #f0f0f0;\n",
      "            padding: 20px;\n",
      "        }\n",
      "\n",
      "        .container {\n",
      "            display: flex;\n",
      "            justify-content: space-between;\n",
      "            max-width: 1000px;\n",
      "            margin: auto;\n",
      "        }\n",
      "\n",
      "        .card {\n",
      "            background-color: #fff;\n",
      "            border: 1px solid #ddd;\n",
      "            border-radius: 10px;\n",
      "            box-shadow: 0 2px 10px rgba(0, 0, 0, 0.1);\n",
      "            padding: 20px;\n",
      "            width: 30%;\n",
      "            text-align: center;\n",
      "        }\n",
      "\n",
      "        .card h3 {\n",
      "            margin-bottom: 10px;\n",
      "        }\n",
      "\n",
      "        .card p {\n",
      "            color: #666;\n",
      "            margin-bottom: 20px;\n",
      "        }\n",
      "\n",
      "        .card button {\n",
      "            padding: 10px 20px;\n",
      "            border: none;\n",
      "            background-color: #007BFF;\n",
      "            color: white;\n",
      "            border-radius: 5px;\n",
      "            cursor: pointer;\n",
      "            transition: background-color 0.3s;\n",
      "        }\n",
      "\n",
      "        .card button:hover {\n",
      "            background-color: #0056b3;\n",
      "        }\n",
      "  </style>\n",
      " </head>\n",
      " <body>\n",
      "  <div class=\"container\">\n",
      "   <!-- Card 1 -->\n",
      "   <div class=\"card\">\n",
      "    <h3>\n",
      "     Card 1\n",
      "    </h3>\n",
      "    <p>\n",
      "     This is the description for the first card.\n",
      "    </p>\n",
      "    <button>\n",
      "     Click Me\n",
      "    </button>\n",
      "   </div>\n",
      "   <!-- Card 2 -->\n",
      "   <div class=\"card\">\n",
      "    <h3>\n",
      "     Card 2\n",
      "    </h3>\n",
      "    <p>\n",
      "     This is the description for the second card.\n",
      "    </p>\n",
      "    <button>\n",
      "     Click Me\n",
      "    </button>\n",
      "   </div>\n",
      "   <!-- Card 3 -->\n",
      "   <div class=\"card\">\n",
      "    <h3>\n",
      "     Card 3\n",
      "    </h3>\n",
      "    <p>\n",
      "     This is the description for the third card.\n",
      "    </p>\n",
      "    <button>\n",
      "     Click Me\n",
      "    </button>\n",
      "   </div>\n",
      "  </div>\n",
      " </body>\n",
      "</html>\n",
      "\n"
     ]
    }
   ],
   "source": [
    "from bs4 import BeautifulSoup\n",
    "\n",
    "with open('home.html','r') as html_file:\n",
    "    content=html_file.read()\n",
    "    #print(content)\n",
    "\n",
    "    soup=BeautifulSoup(content,'lxml')\n",
    "    print(soup.prettify())"
   ]
  },
  {
   "cell_type": "code",
   "execution_count": 11,
   "metadata": {},
   "outputs": [
    {
     "name": "stdout",
     "output_type": "stream",
     "text": [
      "<h3>Card 1</h3>\n",
      "[<h3>Card 1</h3>, <h3>Card 2</h3>, <h3>Card 3</h3>]\n"
     ]
    }
   ],
   "source": [
    "from bs4 import BeautifulSoup\n",
    "\n",
    "with open('home.html','r') as html_file:\n",
    "    content=html_file.read()\n",
    "    #print(content)\n",
    "\n",
    "    soup=BeautifulSoup(content,'lxml')\n",
    "    #print(soup.prettify())\n",
    "    tag=soup.find('h3')\n",
    "    tags=soup.find_all('h3')#finaAll(\"str\")  can also be used\n",
    "    print(tag)\n",
    "    print(tags)"
   ]
  },
  {
   "cell_type": "code",
   "execution_count": 12,
   "metadata": {},
   "outputs": [
    {
     "name": "stdout",
     "output_type": "stream",
     "text": [
      "Card 1 Card 2 Card 3 "
     ]
    }
   ],
   "source": [
    "from bs4 import BeautifulSoup\n",
    "\n",
    "with open('home.html','r') as html_file:\n",
    "    content=html_file.read()\n",
    "\n",
    "    soup=BeautifulSoup(content,'lxml')\n",
    "    tags=soup.find_all('h3')#finaAll(\"str\")  can also be used\n",
    "    for t in tags:\n",
    "        print(t.text,end=\" \")"
   ]
  },
  {
   "cell_type": "code",
   "execution_count": 23,
   "metadata": {},
   "outputs": [
    {
     "name": "stdout",
     "output_type": "stream",
     "text": [
      "Card 1\n",
      "This is the description for the first card.\n",
      "Card 2\n",
      "This is the description for the second card.\n",
      "Card 3\n",
      "This is the description for the third card.\n"
     ]
    }
   ],
   "source": [
    "from bs4 import BeautifulSoup\n",
    "with open('home.html','r') as html_file:\n",
    "    content=html_file.read()\n",
    "\n",
    "    soup=BeautifulSoup(content,'lxml')\n",
    "    cards=soup.find_all('div',class_='card')\n",
    "    for card in cards:\n",
    "        c=card.h3.text\n",
    "        t=card.p.text\n",
    "        print(c)\n",
    "        print(t)\n"
   ]
  },
  {
   "cell_type": "code",
   "execution_count": 28,
   "metadata": {},
   "outputs": [
    {
     "name": "stdout",
     "output_type": "stream",
     "text": [
      "Card 1\n",
      "first\n",
      "Card 2\n",
      "second\n",
      "Card 3\n",
      "third\n"
     ]
    }
   ],
   "source": [
    "from bs4 import BeautifulSoup\n",
    "with open('home.html','r') as html_file:\n",
    "    content=html_file.read()\n",
    "\n",
    "    soup=BeautifulSoup(content,'lxml')\n",
    "    cards=soup.find_all('div',class_='card')\n",
    "    for card in cards:\n",
    "        c=card.h3.text\n",
    "        t=card.p.text.split()[-2]\n",
    "        print(c)\n",
    "        print(t)\n"
   ]
  },
  {
   "cell_type": "code",
   "execution_count": null,
   "metadata": {},
   "outputs": [],
   "source": []
  }
 ],
 "metadata": {
  "kernelspec": {
   "display_name": "Python 3",
   "language": "python",
   "name": "python3"
  },
  "language_info": {
   "codemirror_mode": {
    "name": "ipython",
    "version": 3
   },
   "file_extension": ".py",
   "mimetype": "text/x-python",
   "name": "python",
   "nbconvert_exporter": "python",
   "pygments_lexer": "ipython3",
   "version": "3.12.7"
  }
 },
 "nbformat": 4,
 "nbformat_minor": 2
}
